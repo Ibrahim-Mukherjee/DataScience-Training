{
 "cells": [
  {
   "cell_type": "code",
   "execution_count": 1,
   "id": "c7688203",
   "metadata": {},
   "outputs": [],
   "source": [
    "# This section looks through data structures required for doing computations in Python in Data Science."
   ]
  },
  {
   "cell_type": "code",
   "execution_count": 2,
   "id": "165767d6",
   "metadata": {},
   "outputs": [
    {
     "name": "stdout",
     "output_type": "stream",
     "text": [
      "Array Searched: [20, 5, 7, 25]\n",
      "Searching for: 5\n",
      "Searched index= 1\n"
     ]
    }
   ],
   "source": [
    "# function to perform linear search for element in array\n",
    "def search(arr, element):\n",
    "    for index in range(0, len(arr)):\n",
    "        if arr[index] == element:\n",
    "            return index\n",
    "\n",
    "    # if no such number exist in the array return -1\n",
    "    return -1\n",
    "\n",
    "\n",
    "arr = [20, 5, 7, 25]\n",
    "element = 5\n",
    "\n",
    "print(\"Array Searched:\", arr)\n",
    "print(\"Searching for:\", element)\n",
    "print(\"Searched index=\", search(arr, element))"
   ]
  },
  {
   "cell_type": "code",
   "execution_count": 3,
   "id": "283e27a4",
   "metadata": {},
   "outputs": [
    {
     "name": "stdout",
     "output_type": "stream",
     "text": [
      "Array before insertion: [1, 2, 3, 5]\n",
      "After insertion: [1, -4, 2, 3, 5]\n"
     ]
    }
   ],
   "source": [
    "\"\"\"\n",
    "Function to insert element at a given position\n",
    "Takes an Array an position and an element as arguments\n",
    "\"\"\"\n",
    "\n",
    "\n",
    "def insert(arr, position, element):\n",
    "\n",
    "    next_element = element\n",
    "\n",
    "    for index in range(position, len(arr)):\n",
    "        current = arr[index]\n",
    "        arr[index] = next_element\n",
    "        next_element = current\n",
    "\n",
    "    arr.append(next_element)\n",
    "\n",
    "\n",
    "arr = [1, 2, 3, 5]\n",
    "print(\"Array before insertion:\", arr)\n",
    "\n",
    "insert(arr, 1, -4)\n",
    "print(\"After insertion:\", arr)"
   ]
  },
  {
   "cell_type": "code",
   "execution_count": 4,
   "id": "6ae83ba3",
   "metadata": {},
   "outputs": [
    {
     "name": "stdout",
     "output_type": "stream",
     "text": [
      "Before deletion: [1, 2, 3, 5]\n",
      "Deleting: 2\n",
      "After deletion: [1, 3, 5]\n"
     ]
    }
   ],
   "source": [
    "\"\"\"\n",
    "Function to delete an element in an array\n",
    "Takes in an array and an element to delete\n",
    "Returns an new Array\n",
    "\"\"\"\n",
    "\n",
    "\n",
    "def delete(arr, element):\n",
    "    if element not in arr:\n",
    "        return \"no such element exist in array\"\n",
    "\n",
    "    new_arr = []\n",
    "\n",
    "    for index in range(len(arr)):\n",
    "        if arr[index] != element:\n",
    "            new_arr.append(arr[index])\n",
    "\n",
    "    return new_arr\n",
    "\n",
    "\n",
    "arr = [1, 2, 3, 5]\n",
    "element = 2\n",
    "\n",
    "print(\"Before deletion:\", arr)\n",
    "print(\"Deleting:\", element)\n",
    "\n",
    "new_arr = delete(arr, element)\n",
    "print(\"After deletion:\", new_arr)"
   ]
  },
  {
   "cell_type": "code",
   "execution_count": 5,
   "id": "ec4839a0",
   "metadata": {},
   "outputs": [
    {
     "name": "stdout",
     "output_type": "stream",
     "text": [
      "Before Reverse: [1, 2, 3, 4, 5]\n",
      "After Reverse: [5, 4, 3, 2, 1]\n"
     ]
    }
   ],
   "source": [
    "\"\"\"\n",
    "Function to Reverse an Array\n",
    "Takes in an Array and Returns an New Array\n",
    "\"\"\"\n",
    "\n",
    "\n",
    "def reverse(arr):\n",
    "    new_arr = []\n",
    "\n",
    "    for index in range(len(arr)):\n",
    "        new_arr.insert(0, arr[index])\n",
    "\n",
    "    return new_arr\n",
    "\n",
    "\n",
    "arr = [1, 2, 3, 4, 5]\n",
    "new_arr = reverse(arr)\n",
    "\n",
    "print(\"Before Reverse:\", arr)\n",
    "print(\"After Reverse:\", new_arr)"
   ]
  },
  {
   "cell_type": "code",
   "execution_count": 6,
   "id": "4cf66451",
   "metadata": {},
   "outputs": [
    {
     "name": "stdout",
     "output_type": "stream",
     "text": [
      "Before Left Rotation: [1, 2, 3, 4, 5]\n",
      "After '1' Left Rotation: [2, 1, 3, 4, 5]\n"
     ]
    }
   ],
   "source": [
    "\"\"\"\n",
    "Function to rotate an the first element\n",
    "\"\"\"\n",
    "\n",
    "\n",
    "def left_rotate(arr, num):\n",
    "    tmp = arr[0]\n",
    "\n",
    "    for index in range(1, num):\n",
    "        arr[index - 1] = arr[index]\n",
    "\n",
    "    arr[num - 1] = tmp\n",
    "\n",
    "\n",
    "arr = [1, 2, 3, 4, 5]\n",
    "num = 2\n",
    "\n",
    "print(\"Before Left Rotation:\", arr)\n",
    "\n",
    "left_rotate(arr, num)\n",
    "print(\"After '1' Left Rotation:\", arr)"
   ]
  },
  {
   "cell_type": "code",
   "execution_count": 7,
   "id": "ac80eb6d",
   "metadata": {},
   "outputs": [
    {
     "name": "stdout",
     "output_type": "stream",
     "text": [
      "[40, 50, 10, 20, 30]\n",
      "[40, 50, 10, 20, 30]\n",
      "[40, 50, 10, 20, 30]\n",
      "[40, 50, 10, 20, 30]\n"
     ]
    }
   ],
   "source": [
    "#rotate left by d places\n",
    "l = [10,20,30,40,50]\n",
    "d = 3\n",
    "#ans = [40,10,20,30]\n",
    "#left rotate by 3\n",
    "\n",
    "# method 2 slicing \n",
    "print(l[d:]+l[0:d])\n",
    "\n",
    "l = [10,20,30,40,50]\n",
    "d = 3\n",
    "\n",
    "#method 3\n",
    "for i in range(d):\n",
    "    l.append(l.pop(0))\n",
    "print(l)\n",
    "\n",
    "l = [10,20,30,40,50]\n",
    "d = 3\n",
    "\n",
    "# method4\n",
    "n = len(l) \n",
    "for k in range(d):\n",
    "    temp = l[0]\n",
    "    for i in range(n-1):\n",
    "        l[i] = l[i+1]\n",
    "    l[n-1] = temp\n",
    "print(l)\n",
    "\n",
    "#optimized method\n",
    "#using 3 reverses               [10,20,30,40,50] d = 3\n",
    "# reverse upto d places         [30,20,10,40,50]\n",
    "# reverse remaining n-d places  [30,20,10,50,40]\n",
    "# reverse complete              [40,50,10,20,30]\n",
    "# 3 reverses for any value  of d\n",
    "def reverse(lst, l, r):\n",
    "    while(l<r):\n",
    "        lst[l], lst[r] = lst[r], lst[l]\n",
    "        l+=1\n",
    "        r-=1\n",
    "\n",
    "def optimized(l,d):\n",
    "    n = len(l)\n",
    "    reverse(l,0,d-1)\n",
    "    reverse(l,d,n-1)\n",
    "    reverse(l,0,n-1)\n",
    "\n",
    "l = [10,20,30,40,50]\n",
    "d = 3\n",
    "optimized(l,d)\n",
    "print(l)"
   ]
  },
  {
   "cell_type": "code",
   "execution_count": 8,
   "id": "de6a0a81",
   "metadata": {},
   "outputs": [
    {
     "name": "stdout",
     "output_type": "stream",
     "text": [
      "[30, 40, 50, 10, 20]\n"
     ]
    }
   ],
   "source": [
    "#optimized method using reverse function\n",
    "def reverse(lst, l, r):\n",
    "    while(l<r):\n",
    "        lst[l], lst[r] = lst[r], lst[l]\n",
    "        l+=1\n",
    "        r-=1\n",
    "\n",
    "def optimized(l,d):\n",
    "    n = len(l)\n",
    "    reverse(l,0,n-1)\n",
    "    reverse(l,0,d-1)\n",
    "    reverse(l,d,n-1)\n",
    "\n",
    "l = [10,20,30,40,50]\n",
    "d = 3\n",
    "optimized(l,d)\n",
    "print(l)"
   ]
  },
  {
   "cell_type": "code",
   "execution_count": 9,
   "id": "49a03e72",
   "metadata": {},
   "outputs": [
    {
     "name": "stdout",
     "output_type": "stream",
     "text": [
      "Snake Pattern =\n",
      "1 2 3 4 \n",
      "8 7 6 5 \n",
      "9 10 11 12 \n",
      "16 15 14 13 \n"
     ]
    }
   ],
   "source": [
    "\"\"\"\n",
    "Output:\n",
    "    Snake Pattern =\n",
    "    1 2 3 4\n",
    "    8 7 6 5\n",
    "    9 10 11 12\n",
    "    16 15 14 13\n",
    "\"\"\"\n",
    "\n",
    "\n",
    "def printSnake(matrix):\n",
    "    for x in range(len(matrix)):\n",
    "        if (x + 1) % 2 == 0:\n",
    "            for y in range(1, len(matrix[0]) + 1):\n",
    "                print(matrix[x][-y], end=\" \")\n",
    "        else:\n",
    "            for y in range(len(matrix[0])):\n",
    "                print(matrix[x][y], end=\" \")\n",
    "        print()\n",
    "\n",
    "\n",
    "print(\"Snake Pattern =\")\n",
    "matrix = [[1, 2, 3, 4], [5, 6, 7, 8], [9, 10, 11, 12], [13, 14, 15, 16]]\n",
    "\n",
    "printSnake(matrix)"
   ]
  },
  {
   "cell_type": "code",
   "execution_count": 10,
   "id": "e5823698",
   "metadata": {},
   "outputs": [
    {
     "name": "stdout",
     "output_type": "stream",
     "text": [
      "Transpose Matrix =\n",
      "1 5 9 13 \n",
      "2 6 10 14 \n",
      "3 7 11 15 \n",
      "4 8 12 16 \n"
     ]
    }
   ],
   "source": [
    "\"\"\"\n",
    "Output:\n",
    "    Transpose of Matrix =\n",
    "    1 5 9 13\n",
    "    2 6 10 14\n",
    "    3 7 11 15\n",
    "    4 8 12 16\n",
    "\"\"\"\n",
    "\n",
    "\n",
    "def transpose_matrix(matrix):\n",
    "    for x in range(len(matrix)):\n",
    "        for y in range(len(matrix)):\n",
    "            print(matrix[y][x], end=\" \")\n",
    "        print()\n",
    "\n",
    "\n",
    "print(\"Transpose Matrix =\")\n",
    "matrix = [[1, 2, 3, 4], [5, 6, 7, 8], [9, 10, 11, 12], [13, 14, 15, 16]]\n",
    "\n",
    "transpose_matrix(matrix)"
   ]
  },
  {
   "cell_type": "code",
   "execution_count": 11,
   "id": "0c0da0eb",
   "metadata": {},
   "outputs": [
    {
     "name": "stdout",
     "output_type": "stream",
     "text": [
      "0 1 1 2 3 5 "
     ]
    }
   ],
   "source": [
    "# To print the fibonacci series\n",
    "#0 1 1 2 3 5 8\n",
    "\n",
    "def fib(n):\n",
    "    if n==0 or n==1:\n",
    "        return n\n",
    "    else:\n",
    "        return fib(n-2)+fib(n-1)\n",
    "for i in range(6):\n",
    "    print(fib(i), end = \" \")"
   ]
  },
  {
   "cell_type": "code",
   "execution_count": 12,
   "id": "f0a276c7",
   "metadata": {},
   "outputs": [
    {
     "name": "stdout",
     "output_type": "stream",
     "text": [
      "120\n"
     ]
    }
   ],
   "source": [
    "def factorial(n):\n",
    "    if n==1:\n",
    "        return 1\n",
    "    else:\n",
    "        return n*factorial(n-1)\n",
    "\n",
    "print(factorial(5))"
   ]
  },
  {
   "cell_type": "code",
   "execution_count": 13,
   "id": "98060541",
   "metadata": {},
   "outputs": [
    {
     "name": "stdout",
     "output_type": "stream",
     "text": [
      "True\n",
      "False\n"
     ]
    }
   ],
   "source": [
    "#checking a palindrome or not using recursion\n",
    "# ex: \"peep\"\n",
    "\n",
    "def palindrome(s,b,e):\n",
    "    if b>e:\n",
    "        return True\n",
    "    if s[b]!=s[e]:\n",
    "        return False\n",
    "    else:\n",
    "        return palindrome(s, b+1, e-1)\n",
    "\n",
    "s = \"pop\"\n",
    "print(palindrome(s, 0, len(s)-1))\n",
    "\n",
    "s = \"pick\"\n",
    "print(palindrome(s, 0, len(s)-1))"
   ]
  }
 ],
 "metadata": {
  "kernelspec": {
   "display_name": "Python 3",
   "language": "python",
   "name": "python3"
  },
  "language_info": {
   "codemirror_mode": {
    "name": "ipython",
    "version": 3
   },
   "file_extension": ".py",
   "mimetype": "text/x-python",
   "name": "python",
   "nbconvert_exporter": "python",
   "pygments_lexer": "ipython3",
   "version": "3.8.8"
  }
 },
 "nbformat": 4,
 "nbformat_minor": 5
}
