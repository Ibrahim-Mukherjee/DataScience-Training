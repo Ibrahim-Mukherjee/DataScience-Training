{
 "cells": [
  {
   "cell_type": "code",
   "execution_count": 3,
   "id": "cf142a87",
   "metadata": {},
   "outputs": [],
   "source": [
    "a = 3"
   ]
  },
  {
   "cell_type": "code",
   "execution_count": 4,
   "id": "b4c0385a",
   "metadata": {},
   "outputs": [
    {
     "name": "stdout",
     "output_type": "stream",
     "text": [
      "3\n"
     ]
    }
   ],
   "source": [
    "print(a)"
   ]
  },
  {
   "cell_type": "code",
   "execution_count": 12,
   "id": "48666edc",
   "metadata": {},
   "outputs": [],
   "source": [
    "b = 3"
   ]
  },
  {
   "cell_type": "code",
   "execution_count": 13,
   "id": "7cc624a3",
   "metadata": {},
   "outputs": [
    {
     "name": "stdout",
     "output_type": "stream",
     "text": [
      "3\n"
     ]
    }
   ],
   "source": [
    "print (b)"
   ]
  },
  {
   "cell_type": "code",
   "execution_count": 14,
   "id": "ccf594da",
   "metadata": {},
   "outputs": [],
   "source": [
    "c = a + b "
   ]
  },
  {
   "cell_type": "code",
   "execution_count": 15,
   "id": "8d7d5bfd",
   "metadata": {},
   "outputs": [
    {
     "name": "stdout",
     "output_type": "stream",
     "text": [
      "6\n"
     ]
    }
   ],
   "source": [
    "print (c)"
   ]
  },
  {
   "cell_type": "code",
   "execution_count": 16,
   "id": "6a3f2df9",
   "metadata": {},
   "outputs": [],
   "source": [
    "d = \"my name is\""
   ]
  },
  {
   "cell_type": "code",
   "execution_count": 20,
   "id": "ed077fbb",
   "metadata": {},
   "outputs": [],
   "source": [
    "e = \" John\""
   ]
  },
  {
   "cell_type": "code",
   "execution_count": 21,
   "id": "9ff2b4dc",
   "metadata": {},
   "outputs": [],
   "source": [
    "f = d + e"
   ]
  },
  {
   "cell_type": "code",
   "execution_count": 22,
   "id": "228527b2",
   "metadata": {},
   "outputs": [
    {
     "name": "stdout",
     "output_type": "stream",
     "text": [
      "my name is John\n"
     ]
    }
   ],
   "source": [
    "print (f)"
   ]
  },
  {
   "cell_type": "code",
   "execution_count": 44,
   "id": "37b588d1",
   "metadata": {},
   "outputs": [],
   "source": [
    "import math"
   ]
  },
  {
   "cell_type": "code",
   "execution_count": 46,
   "id": "f0984cb5",
   "metadata": {},
   "outputs": [],
   "source": [
    "g = math.ceil(10.7)"
   ]
  },
  {
   "cell_type": "code",
   "execution_count": 37,
   "id": "27ebe819",
   "metadata": {},
   "outputs": [],
   "source": [
    "h = 9.33"
   ]
  },
  {
   "cell_type": "code",
   "execution_count": 38,
   "id": "62e55b1a",
   "metadata": {},
   "outputs": [],
   "source": [
    "i = g + h"
   ]
  },
  {
   "cell_type": "code",
   "execution_count": 39,
   "id": "3fa5c69d",
   "metadata": {},
   "outputs": [
    {
     "name": "stdout",
     "output_type": "stream",
     "text": [
      "20.03\n"
     ]
    }
   ],
   "source": [
    "print (i)"
   ]
  },
  {
   "cell_type": "code",
   "execution_count": 47,
   "id": "b2a0e458",
   "metadata": {},
   "outputs": [],
   "source": [
    "j = g + int(h)"
   ]
  },
  {
   "cell_type": "code",
   "execution_count": 48,
   "id": "c7762c79",
   "metadata": {},
   "outputs": [
    {
     "name": "stdout",
     "output_type": "stream",
     "text": [
      "20\n"
     ]
    }
   ],
   "source": [
    "print (j)"
   ]
  },
  {
   "cell_type": "code",
   "execution_count": 56,
   "id": "2fbc70b9",
   "metadata": {},
   "outputs": [],
   "source": [
    "def my_function(a,b):\n",
    "  return(a+b)"
   ]
  },
  {
   "cell_type": "code",
   "execution_count": 57,
   "id": "cee7cf59",
   "metadata": {},
   "outputs": [],
   "source": [
    "j = my_function(g,int(h))"
   ]
  },
  {
   "cell_type": "code",
   "execution_count": 58,
   "id": "4b6553e8",
   "metadata": {},
   "outputs": [
    {
     "name": "stdout",
     "output_type": "stream",
     "text": [
      "20\n"
     ]
    }
   ],
   "source": [
    "print(j)"
   ]
  },
  {
   "cell_type": "code",
   "execution_count": 59,
   "id": "d955168c",
   "metadata": {},
   "outputs": [
    {
     "name": "stdout",
     "output_type": "stream",
     "text": [
      "20 is 9.33 two numbers\n"
     ]
    }
   ],
   "source": [
    "print(j, 'is', h, 'two numbers')"
   ]
  },
  {
   "cell_type": "code",
   "execution_count": 65,
   "id": "3d2810b2",
   "metadata": {},
   "outputs": [
    {
     "name": "stdout",
     "output_type": "stream",
     "text": [
      "eli\n"
     ]
    }
   ],
   "source": [
    "atom_name = 'helium'\n",
    "print(atom_name[1:4])"
   ]
  },
  {
   "cell_type": "code",
   "execution_count": 66,
   "id": "e3d3eae4",
   "metadata": {},
   "outputs": [
    {
     "name": "stdout",
     "output_type": "stream",
     "text": [
      "6\n"
     ]
    }
   ],
   "source": [
    "print(len('helium'))"
   ]
  },
  {
   "cell_type": "code",
   "execution_count": 67,
   "id": "8a4bbbb2",
   "metadata": {},
   "outputs": [
    {
     "name": "stdout",
     "output_type": "stream",
     "text": [
      "<class 'int'>\n"
     ]
    }
   ],
   "source": [
    "print(type(52))"
   ]
  },
  {
   "cell_type": "code",
   "execution_count": 68,
   "id": "a3fbae1d",
   "metadata": {},
   "outputs": [
    {
     "name": "stdout",
     "output_type": "stream",
     "text": [
      "<class 'str'>\n"
     ]
    }
   ],
   "source": [
    "fitness = 'average'\n",
    "print(type(fitness))"
   ]
  },
  {
   "cell_type": "code",
   "execution_count": 69,
   "id": "449237a9",
   "metadata": {},
   "outputs": [
    {
     "name": "stdout",
     "output_type": "stream",
     "text": [
      "<class 'float'>\n"
     ]
    }
   ],
   "source": [
    "print(type(i))"
   ]
  },
  {
   "cell_type": "code",
   "execution_count": 70,
   "id": "7a342f35",
   "metadata": {},
   "outputs": [
    {
     "name": "stdout",
     "output_type": "stream",
     "text": [
      "<class 'int'>\n"
     ]
    }
   ],
   "source": [
    "print(type(j))"
   ]
  },
  {
   "cell_type": "code",
   "execution_count": 73,
   "id": "11562f98",
   "metadata": {},
   "outputs": [
    {
     "name": "stdout",
     "output_type": "stream",
     "text": [
      "12\n"
     ]
    }
   ],
   "source": [
    "print('1' + '2')"
   ]
  },
  {
   "cell_type": "code",
   "execution_count": 74,
   "id": "54dc4994",
   "metadata": {},
   "outputs": [
    {
     "name": "stdout",
     "output_type": "stream",
     "text": [
      "5 // 3: 1\n",
      "5 / 3: 1.6666666666666667\n",
      "5 % 3: 2\n"
     ]
    }
   ],
   "source": [
    "print('5 // 3:', 5 // 3) #floor division  \n",
    "print('5 / 3:', 5 / 3) #normal division\n",
    "print('5 % 3:', 5 % 3) #modulo operator"
   ]
  },
  {
   "cell_type": "code",
   "execution_count": null,
   "id": "f09a36bc",
   "metadata": {},
   "outputs": [],
   "source": []
  }
 ],
 "metadata": {
  "kernelspec": {
   "display_name": "Python 3",
   "language": "python",
   "name": "python3"
  },
  "language_info": {
   "codemirror_mode": {
    "name": "ipython",
    "version": 3
   },
   "file_extension": ".py",
   "mimetype": "text/x-python",
   "name": "python",
   "nbconvert_exporter": "python",
   "pygments_lexer": "ipython3",
   "version": "3.8.8"
  }
 },
 "nbformat": 4,
 "nbformat_minor": 5
}
