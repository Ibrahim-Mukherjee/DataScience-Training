{
 "cells": [
  {
   "cell_type": "code",
   "execution_count": null,
   "id": "43c28fce",
   "metadata": {},
   "outputs": [],
   "source": [
    "# Software Carpentry Inc, Looking at the graphing library matplotlib.\n",
    "# http://swcarpentry.github.io/python-novice-gapminder/09-plotting/index.html"
   ]
  },
  {
   "cell_type": "code",
   "execution_count": 1,
   "id": "3f956dff",
   "metadata": {},
   "outputs": [],
   "source": [
    "import matplotlib.pyplot as plt"
   ]
  },
  {
   "cell_type": "code",
   "execution_count": 2,
   "id": "cf15c045",
   "metadata": {},
   "outputs": [
    {
     "data": {
      "text/plain": [
       "Text(0, 0.5, 'Position (km)')"
      ]
     },
     "execution_count": 2,
     "metadata": {},
     "output_type": "execute_result"
    },
    {
     "data": {
      "image/png": "[encoded data removed]",
      "text/plain": [
       "<Figure size 432x288 with 1 Axes>"
      ]
     },
     "metadata": {
      "needs_background": "light"
     },
     "output_type": "display_data"
    }
   ],
   "source": [
    "time = [0, 1, 2, 3]\n",
    "position = [0, 100, 200, 300]\n",
    "\n",
    "plt.plot(time, position)\n",
    "plt.xlabel('Time (hr)')\n",
    "plt.ylabel('Position (km)')"
   ]
  },
  {
   "cell_type": "code",
   "execution_count": 3,
   "id": "b4c49504",
   "metadata": {},
   "outputs": [],
   "source": [
    "plt.show()"
   ]
  },
  {
   "cell_type": "markdown",
   "id": "2d69bdf8",
   "metadata": {},
   "source": [
    "A list stores many values in a single structure.\n",
    "Doing calculations with a hundred variables called pressure_001, pressure_002, etc., would be at least as slow as doing them by hand.\n",
    "Use a list to store many values together.\n",
    "Contained within square brackets [...].\n",
    "Values separated by commas ,.\n",
    "Use len to find out how many values are in a list."
   ]
  },
  {
   "cell_type": "code",
   "execution_count": 6,
   "id": "6fe69ba0",
   "metadata": {},
   "outputs": [
    {
     "name": "stdout",
     "output_type": "stream",
     "text": [
      "pressures: [0.273, 0.275, 0.277, 0.275, 0.276]\n",
      "length: 5\n"
     ]
    }
   ],
   "source": [
    "pressures = [0.273, 0.275, 0.277, 0.275, 0.276]\n",
    "print('pressures:', pressures)\n",
    "print('length:', len(pressures))"
   ]
  },
  {
   "cell_type": "markdown",
   "id": "3b4b8d0f",
   "metadata": {},
   "source": [
    "Use an item’s index to fetch it from a list.\n",
    "Just like strings."
   ]
  },
  {
   "cell_type": "code",
   "execution_count": 7,
   "id": "fb077daf",
   "metadata": {},
   "outputs": [
    {
     "name": "stdout",
     "output_type": "stream",
     "text": [
      "zeroth item of pressures: 0.273\n",
      "fourth item of pressures: 0.276\n"
     ]
    }
   ],
   "source": [
    "print('zeroth item of pressures:', pressures[0])\n",
    "print('fourth item of pressures:', pressures[4])"
   ]
  },
  {
   "cell_type": "markdown",
   "id": "7be91535",
   "metadata": {},
   "source": [
    "Lists’ values can be replaced by assigning to them.\n",
    "Use an index expression on the left of assignment to replace a value."
   ]
  },
  {
   "cell_type": "code",
   "execution_count": 9,
   "id": "c5ce73bb",
   "metadata": {},
   "outputs": [
    {
     "name": "stdout",
     "output_type": "stream",
     "text": [
      "pressures is now: [0.265, 0.275, 0.277, 0.275, 0.276]\n"
     ]
    }
   ],
   "source": [
    "pressures[0] = 0.265\n",
    "print('pressures is now:', pressures)"
   ]
  },
  {
   "cell_type": "code",
   "execution_count": 10,
   "id": "1b972916",
   "metadata": {},
   "outputs": [
    {
     "name": "stdout",
     "output_type": "stream",
     "text": [
      "primes is initially: [2, 3, 5]\n",
      "primes has become: [2, 3, 5, 7]\n"
     ]
    }
   ],
   "source": [
    "primes = [2, 3, 5]\n",
    "print('primes is initially:', primes)\n",
    "primes.append(7)\n",
    "print('primes has become:', primes)"
   ]
  },
  {
   "cell_type": "code",
   "execution_count": 11,
   "id": "0ecd95de",
   "metadata": {},
   "outputs": [
    {
     "name": "stdout",
     "output_type": "stream",
     "text": [
      "primes is currently: [2, 3, 5, 7]\n",
      "primes has now become: [2, 3, 5, 7, 11, 13, 17, 19]\n",
      "primes has finally become: [2, 3, 5, 7, 11, 13, 17, 19, [37, 41, 43, 47]]\n"
     ]
    }
   ],
   "source": [
    "teen_primes = [11, 13, 17, 19]\n",
    "middle_aged_primes = [37, 41, 43, 47]\n",
    "print('primes is currently:', primes)\n",
    "primes.extend(teen_primes)\n",
    "print('primes has now become:', primes)\n",
    "primes.append(middle_aged_primes)\n",
    "print('primes has finally become:', primes)"
   ]
  },
  {
   "cell_type": "code",
   "execution_count": 12,
   "id": "87bbd3af",
   "metadata": {},
   "outputs": [
    {
     "name": "stdout",
     "output_type": "stream",
     "text": [
      "primes before removing last item: [2, 3, 5, 7, 9]\n",
      "primes after removing last item: [2, 3, 5, 7]\n"
     ]
    }
   ],
   "source": [
    "primes = [2, 3, 5, 7, 9]\n",
    "print('primes before removing last item:', primes)\n",
    "del primes[4]\n",
    "print('primes after removing last item:', primes)"
   ]
  },
  {
   "cell_type": "code",
   "execution_count": 13,
   "id": "bc840758",
   "metadata": {},
   "outputs": [],
   "source": [
    "goals = [1, 'Create lists.', 2, 'Extract items from lists.', 3, 'Modify lists.']"
   ]
  },
  {
   "cell_type": "code",
   "execution_count": 14,
   "id": "9345acf9",
   "metadata": {},
   "outputs": [
    {
     "name": "stdout",
     "output_type": "stream",
     "text": [
      "zeroth character: c\n",
      "third character: b\n"
     ]
    }
   ],
   "source": [
    "element = 'carbon'\n",
    "print('zeroth character:', element[0])\n",
    "print('third character:', element[3])"
   ]
  },
  {
   "cell_type": "code",
   "execution_count": 15,
   "id": "0acb948a",
   "metadata": {},
   "outputs": [
    {
     "ename": "TypeError",
     "evalue": "'str' object does not support item assignment",
     "output_type": "error",
     "traceback": [
      "\u001b[1;31m---------------------------------------------------------------------------\u001b[0m",
      "\u001b[1;31mTypeError\u001b[0m                                 Traceback (most recent call last)",
      "\u001b[1;32m<ipython-input-15-6dc46761ce07>\u001b[0m in \u001b[0;36m<module>\u001b[1;34m\u001b[0m\n\u001b[1;32m----> 1\u001b[1;33m \u001b[0melement\u001b[0m\u001b[1;33m[\u001b[0m\u001b[1;36m0\u001b[0m\u001b[1;33m]\u001b[0m \u001b[1;33m=\u001b[0m \u001b[1;34m'C'\u001b[0m\u001b[1;33m\u001b[0m\u001b[1;33m\u001b[0m\u001b[0m\n\u001b[0m",
      "\u001b[1;31mTypeError\u001b[0m: 'str' object does not support item assignment"
     ]
    }
   ],
   "source": [
    "element[0] = 'C'"
   ]
  },
  {
   "cell_type": "markdown",
   "id": "3d0c6352",
   "metadata": {},
   "source": [
    "Character strings are immutable.\n",
    "Cannot change the characters in a string after it has been created.\n",
    "Immutable: can’t be changed after creation.\n",
    "In contrast, lists are mutable: they can be modified in place.\n",
    "Python considers the string to be a single value with parts, not a collection of values."
   ]
  },
  {
   "cell_type": "code",
   "execution_count": 16,
   "id": "b5b171e1",
   "metadata": {},
   "outputs": [
    {
     "ename": "TypeError",
     "evalue": "'str' object does not support item assignment",
     "output_type": "error",
     "traceback": [
      "\u001b[1;31m---------------------------------------------------------------------------\u001b[0m",
      "\u001b[1;31mTypeError\u001b[0m                                 Traceback (most recent call last)",
      "\u001b[1;32m<ipython-input-16-6dc46761ce07>\u001b[0m in \u001b[0;36m<module>\u001b[1;34m\u001b[0m\n\u001b[1;32m----> 1\u001b[1;33m \u001b[0melement\u001b[0m\u001b[1;33m[\u001b[0m\u001b[1;36m0\u001b[0m\u001b[1;33m]\u001b[0m \u001b[1;33m=\u001b[0m \u001b[1;34m'C'\u001b[0m\u001b[1;33m\u001b[0m\u001b[1;33m\u001b[0m\u001b[0m\n\u001b[0m",
      "\u001b[1;31mTypeError\u001b[0m: 'str' object does not support item assignment"
     ]
    }
   ],
   "source": [
    "element[0] = 'C'"
   ]
  },
  {
   "cell_type": "markdown",
   "id": "2d465ea9",
   "metadata": {},
   "source": [
    "Lists and character strings are both collections."
   ]
  },
  {
   "cell_type": "markdown",
   "id": "bd2fc5ed",
   "metadata": {},
   "source": [
    "Indexing beyond the end of the collection is an error.\n",
    "Python reports an IndexError if we attempt to access a value that doesn’t exist.\n",
    "This is a kind of runtime error.\n",
    "Cannot be detected as the code is parsed because the index might be calculated based on data."
   ]
  },
  {
   "cell_type": "code",
   "execution_count": 17,
   "id": "f355b6d5",
   "metadata": {},
   "outputs": [
    {
     "ename": "IndexError",
     "evalue": "string index out of range",
     "output_type": "error",
     "traceback": [
      "\u001b[1;31m---------------------------------------------------------------------------\u001b[0m",
      "\u001b[1;31mIndexError\u001b[0m                                Traceback (most recent call last)",
      "\u001b[1;32m<ipython-input-17-f178a3be0901>\u001b[0m in \u001b[0;36m<module>\u001b[1;34m\u001b[0m\n\u001b[1;32m----> 1\u001b[1;33m \u001b[0mprint\u001b[0m\u001b[1;33m(\u001b[0m\u001b[1;34m'99th element of element is:'\u001b[0m\u001b[1;33m,\u001b[0m \u001b[0melement\u001b[0m\u001b[1;33m[\u001b[0m\u001b[1;36m99\u001b[0m\u001b[1;33m]\u001b[0m\u001b[1;33m)\u001b[0m\u001b[1;33m\u001b[0m\u001b[1;33m\u001b[0m\u001b[0m\n\u001b[0m",
      "\u001b[1;31mIndexError\u001b[0m: string index out of range"
     ]
    }
   ],
   "source": [
    "print('99th element of element is:', element[99])"
   ]
  },
  {
   "cell_type": "code",
   "execution_count": 18,
   "id": "afb61019",
   "metadata": {},
   "outputs": [
    {
     "name": "stdout",
     "output_type": "stream",
     "text": [
      "first time: [1, 3, 5]\n",
      "second time: [3, 5]\n"
     ]
    }
   ],
   "source": [
    "values = []\n",
    "values.append(1)\n",
    "values.append(3)\n",
    "values.append(5)\n",
    "print('first time:', values)\n",
    "values = values[1:]\n",
    "print('second time:', values)"
   ]
  },
  {
   "cell_type": "code",
   "execution_count": 19,
   "id": "6c15f0f6",
   "metadata": {},
   "outputs": [
    {
     "name": "stdout",
     "output_type": "stream",
     "text": [
      "string to list: ['t', 'i', 'n']\n",
      "list to string: gold\n"
     ]
    }
   ],
   "source": [
    "print('string to list:', list('tin'))\n",
    "print('list to string:', ''.join(['g', 'o', 'l', 'd']))"
   ]
  },
  {
   "cell_type": "code",
   "execution_count": 20,
   "id": "82c64461",
   "metadata": {},
   "outputs": [
    {
     "name": "stdout",
     "output_type": "stream",
     "text": [
      "m\n"
     ]
    }
   ],
   "source": [
    "element = 'helium'\n",
    "print(element[-1])"
   ]
  },
  {
   "cell_type": "code",
   "execution_count": 21,
   "id": "54e49b18",
   "metadata": {},
   "outputs": [
    {
     "name": "stdout",
     "output_type": "stream",
     "text": [
      "furn\n",
      "eniroulf\n"
     ]
    }
   ],
   "source": [
    "element = 'fluorine'\n",
    "print(element[::2])\n",
    "print(element[::-1])"
   ]
  },
  {
   "cell_type": "code",
   "execution_count": 22,
   "id": "9f2cca96",
   "metadata": {},
   "outputs": [
    {
     "name": "stdout",
     "output_type": "stream",
     "text": [
      "lithium\n",
      "\n"
     ]
    }
   ],
   "source": [
    "element = 'lithium'\n",
    "print(element[0:20])\n",
    "print(element[-1:3])"
   ]
  },
  {
   "cell_type": "code",
   "execution_count": 23,
   "id": "f34dd9ab",
   "metadata": {},
   "outputs": [
    {
     "name": "stdout",
     "output_type": "stream",
     "text": [
      "letters is ['g', 'o', 'l', 'd'] and result is ['d', 'g', 'l', 'o']\n"
     ]
    }
   ],
   "source": [
    "letters = list('gold')\n",
    "result = sorted(letters)\n",
    "print('letters is', letters, 'and result is', result)"
   ]
  },
  {
   "cell_type": "code",
   "execution_count": 24,
   "id": "3e7460ce",
   "metadata": {},
   "outputs": [
    {
     "name": "stdout",
     "output_type": "stream",
     "text": [
      "new is ['D', 'o', 'l', 'd'] and old is ['D', 'o', 'l', 'd']\n"
     ]
    }
   ],
   "source": [
    "# Program A\n",
    "old = list('gold')\n",
    "new = old      # simple assignment\n",
    "new[0] = 'D'\n",
    "print('new is', new, 'and old is', old)"
   ]
  },
  {
   "cell_type": "markdown",
   "id": "b7fa2e87",
   "metadata": {},
   "source": [
    "A for loop executes commands once for each value in a collection.\n",
    "Doing calculations on the values in a list one by one is as painful as working with pressure_001, pressure_002, etc.\n",
    "A for loop tells Python to execute some statements once for each value in a list, a character string, or some other collection.\n",
    "“for each thing in this group, do these operations”"
   ]
  },
  {
   "cell_type": "code",
   "execution_count": 25,
   "id": "82788ef5",
   "metadata": {},
   "outputs": [
    {
     "name": "stdout",
     "output_type": "stream",
     "text": [
      "2\n",
      "3\n",
      "5\n"
     ]
    }
   ],
   "source": [
    "for number in [2, 3, 5]:\n",
    "    print(number)"
   ]
  },
  {
   "cell_type": "code",
   "execution_count": 30,
   "id": "fe70bf01",
   "metadata": {},
   "outputs": [],
   "source": [
    "firstName = \"Jon\"\n",
    "lastName = \"Smith\""
   ]
  },
  {
   "cell_type": "markdown",
   "id": "14d98a05",
   "metadata": {},
   "source": [
    "Loop variables can be called anything.\n",
    "As with all variables, loop variables are:\n",
    "Created on demand.\n",
    "Meaningless: their names can be anything at all."
   ]
  },
  {
   "cell_type": "code",
   "execution_count": 31,
   "id": "e60d112f",
   "metadata": {},
   "outputs": [
    {
     "name": "stdout",
     "output_type": "stream",
     "text": [
      "2\n",
      "3\n",
      "5\n"
     ]
    }
   ],
   "source": [
    "for kitten in [2, 3, 5]:\n",
    "    print(kitten)"
   ]
  },
  {
   "cell_type": "markdown",
   "id": "bcab68ec",
   "metadata": {},
   "source": [
    "The body of a loop can contain many statements.\n",
    "But no loop should be more than a few lines long.\n",
    "Hard for human beings to keep larger chunks of code in mind."
   ]
  },
  {
   "cell_type": "code",
   "execution_count": 32,
   "id": "e4b8cb6d",
   "metadata": {},
   "outputs": [
    {
     "name": "stdout",
     "output_type": "stream",
     "text": [
      "2 4 8\n",
      "3 9 27\n",
      "5 25 125\n"
     ]
    }
   ],
   "source": [
    "primes = [2, 3, 5]\n",
    "for p in primes:\n",
    "    squared = p ** 2\n",
    "    cubed = p ** 3\n",
    "    print(p, squared, cubed)"
   ]
  },
  {
   "cell_type": "markdown",
   "id": "181d1632",
   "metadata": {},
   "source": [
    "Use range to iterate over a sequence of numbers.\n",
    "The built-in function range produces a sequence of numbers.\n",
    "Not a list: the numbers are produced on demand to make looping over large ranges more efficient.\n",
    "range(N) is the numbers 0..N-1\n",
    "Exactly the legal indices of a list or character string of length N"
   ]
  },
  {
   "cell_type": "code",
   "execution_count": 33,
   "id": "d4ca758f",
   "metadata": {},
   "outputs": [
    {
     "name": "stdout",
     "output_type": "stream",
     "text": [
      "a range is not a list: range(0, 3)\n",
      "0\n",
      "1\n",
      "2\n"
     ]
    }
   ],
   "source": [
    "print('a range is not a list: range(0, 3)')\n",
    "for number in range(0, 3):\n",
    "    print(number)"
   ]
  },
  {
   "cell_type": "markdown",
   "id": "557f3489",
   "metadata": {},
   "source": [
    "The Accumulator pattern turns many values into one.\n",
    "A common pattern in programs is to:\n",
    "Initialize an accumulator variable to zero, the empty string, or the empty list.\n",
    "Update the variable with values from a collection."
   ]
  },
  {
   "cell_type": "code",
   "execution_count": 34,
   "id": "01ee9f06",
   "metadata": {},
   "outputs": [
    {
     "name": "stdout",
     "output_type": "stream",
     "text": [
      "55\n"
     ]
    }
   ],
   "source": [
    "# Sum the first 10 integers.\n",
    "total = 0\n",
    "for number in range(10):\n",
    "   total = total + (number + 1)\n",
    "print(total)"
   ]
  },
  {
   "cell_type": "code",
   "execution_count": 35,
   "id": "5fd959d4",
   "metadata": {},
   "outputs": [],
   "source": [
    "total = 0\n",
    "for char in \"tin\":\n",
    "    total = total + 1"
   ]
  },
  {
   "cell_type": "code",
   "execution_count": 39,
   "id": "7dc47486",
   "metadata": {},
   "outputs": [
    {
     "name": "stdout",
     "output_type": "stream",
     "text": [
      "[3, 5, 4]\n"
     ]
    }
   ],
   "source": [
    "lengths = []\n",
    "for word in [\"red\", \"green\", \"blue\"]:\n",
    "    lengths.append(len(word))\n",
    "print(lengths)"
   ]
  },
  {
   "cell_type": "code",
   "execution_count": 40,
   "id": "f680500d",
   "metadata": {},
   "outputs": [
    {
     "name": "stdout",
     "output_type": "stream",
     "text": [
      "redgreenblue\n"
     ]
    }
   ],
   "source": [
    "words = [\"red\", \"green\", \"blue\"]\n",
    "result = \"\"\n",
    "for word in words:\n",
    "    result = result + word\n",
    "print(result)"
   ]
  },
  {
   "cell_type": "code",
   "execution_count": 43,
   "id": "dac31091",
   "metadata": {},
   "outputs": [
    {
     "name": "stdout",
     "output_type": "stream",
     "text": [
      "abbabbabba\n"
     ]
    }
   ],
   "source": [
    "message = \"\"\n",
    "for number in range(10):\n",
    "    # use a if the number is a multiple of 3, otherwise use b\n",
    "    if (number % 3) == 0:\n",
    "        message = message + \"a\"\n",
    "    else:\n",
    "        message = message + \"b\"\n",
    "print(message)"
   ]
  },
  {
   "cell_type": "code",
   "execution_count": 45,
   "id": "d383d911",
   "metadata": {},
   "outputs": [
    {
     "name": "stdout",
     "output_type": "stream",
     "text": [
      "My favorite season is  Winter\n"
     ]
    }
   ],
   "source": [
    "seasons = ['Spring', 'Summer', 'Fall', 'Winter']\n",
    "print('My favorite season is ', seasons[3])"
   ]
  },
  {
   "cell_type": "code",
   "execution_count": 46,
   "id": "93a27baa",
   "metadata": {},
   "outputs": [
    {
     "name": "stdout",
     "output_type": "stream",
     "text": [
      "3.54 is large\n"
     ]
    }
   ],
   "source": [
    "mass = 3.54\n",
    "if mass > 3.0:\n",
    "    print(mass, 'is large')\n",
    "\n",
    "mass = 2.07\n",
    "if mass > 3.0:\n",
    "    print (mass, 'is large')"
   ]
  },
  {
   "cell_type": "code",
   "execution_count": 47,
   "id": "237a427d",
   "metadata": {},
   "outputs": [
    {
     "name": "stdout",
     "output_type": "stream",
     "text": [
      "3.54 is large\n",
      "9.22 is large\n"
     ]
    }
   ],
   "source": [
    "masses = [3.54, 2.07, 9.22, 1.86, 1.71]\n",
    "for m in masses:\n",
    "    if m > 3.0:\n",
    "        print(m, 'is large')"
   ]
  },
  {
   "cell_type": "code",
   "execution_count": 48,
   "id": "f9880f27",
   "metadata": {},
   "outputs": [
    {
     "name": "stdout",
     "output_type": "stream",
     "text": [
      "3.54 is large\n",
      "2.07 is small\n",
      "9.22 is large\n",
      "1.86 is small\n",
      "1.71 is small\n"
     ]
    }
   ],
   "source": [
    "masses = [3.54, 2.07, 9.22, 1.86, 1.71]\n",
    "for m in masses:\n",
    "    if m > 3.0:\n",
    "        print(m, 'is large')\n",
    "    else:\n",
    "        print(m, 'is small')"
   ]
  },
  {
   "cell_type": "code",
   "execution_count": 49,
   "id": "caf5b1b9",
   "metadata": {},
   "outputs": [
    {
     "name": "stdout",
     "output_type": "stream",
     "text": [
      "3.54 is large\n",
      "2.07 is small\n",
      "9.22 is HUGE\n",
      "1.86 is small\n",
      "1.71 is small\n"
     ]
    }
   ],
   "source": [
    "masses = [3.54, 2.07, 9.22, 1.86, 1.71]\n",
    "for m in masses:\n",
    "    if m > 9.0:\n",
    "        print(m, 'is HUGE')\n",
    "    elif m > 3.0:\n",
    "        print(m, 'is large')\n",
    "    else:\n",
    "        print(m, 'is small')"
   ]
  },
  {
   "cell_type": "code",
   "execution_count": 50,
   "id": "b390afaf",
   "metadata": {},
   "outputs": [
    {
     "name": "stdout",
     "output_type": "stream",
     "text": [
      "grade is C\n"
     ]
    }
   ],
   "source": [
    "grade = 85\n",
    "if grade >= 70:\n",
    "    print('grade is C')\n",
    "elif grade >= 80:\n",
    "    print('grade is B')\n",
    "elif grade >= 90:\n",
    "    print('grade is A')"
   ]
  },
  {
   "cell_type": "code",
   "execution_count": 51,
   "id": "9f0e0b10",
   "metadata": {},
   "outputs": [
    {
     "name": "stdout",
     "output_type": "stream",
     "text": [
      "adjusting velocity\n"
     ]
    }
   ],
   "source": [
    "velocity = 10.0\n",
    "if velocity > 20.0:\n",
    "    print('moving too fast')\n",
    "else:\n",
    "    print('adjusting velocity')\n",
    "    velocity = 50.0"
   ]
  },
  {
   "cell_type": "code",
   "execution_count": 52,
   "id": "866f3535",
   "metadata": {},
   "outputs": [
    {
     "name": "stdout",
     "output_type": "stream",
     "text": [
      "0 : 10.0\n",
      "moving too slow\n",
      "1 : 20.0\n",
      "moving too slow\n",
      "2 : 30.0\n",
      "moving too fast\n",
      "3 : 25.0\n",
      "moving too fast\n",
      "4 : 20.0\n",
      "moving too slow\n",
      "final velocity: 30.0\n"
     ]
    }
   ],
   "source": [
    "velocity = 10.0\n",
    "for i in range(5): # execute the loop 5 times\n",
    "    print(i, ':', velocity)\n",
    "    if velocity > 20.0:\n",
    "        print('moving too fast')\n",
    "        velocity = velocity - 5.0\n",
    "    else:\n",
    "        print('moving too slow')\n",
    "        velocity = velocity + 10.0\n",
    "print('final velocity:', velocity)"
   ]
  },
  {
   "cell_type": "code",
   "execution_count": 53,
   "id": "d1ede426",
   "metadata": {},
   "outputs": [
    {
     "name": "stdout",
     "output_type": "stream",
     "text": [
      "Normal traffic\n",
      "Normal traffic\n",
      "Fast heavy object.  Duck!\n",
      "Whoa!  Something is up with the data.  Check it\n",
      "Slow light object.  Ignore it\n"
     ]
    }
   ],
   "source": [
    "mass     = [ 3.54,  2.07,  9.22,  1.86,  1.71]\n",
    "velocity = [10.00, 20.00, 30.00, 25.00, 20.00]\n",
    "\n",
    "i = 0\n",
    "for i in range(5):\n",
    "    if mass[i] > 5 and velocity[i] > 20:\n",
    "        print(\"Fast heavy object.  Duck!\")\n",
    "    elif mass[i] > 2 and mass[i] <= 5 and velocity[i] <= 20:\n",
    "        print(\"Normal traffic\")\n",
    "    elif mass[i] <= 2 and velocity[i] <= 20:\n",
    "        print(\"Slow light object.  Ignore it\")\n",
    "    else:\n",
    "        print(\"Whoa!  Something is up with the data.  Check it\")"
   ]
  },
  {
   "cell_type": "code",
   "execution_count": 54,
   "id": "e96c16a5",
   "metadata": {},
   "outputs": [
    {
     "name": "stdout",
     "output_type": "stream",
     "text": [
      "25.0\n"
     ]
    }
   ],
   "source": [
    "pressure = 71.9\n",
    "if pressure > 50.0:\n",
    "    pressure = 25.0\n",
    "elif pressure <= 50.0:\n",
    "    pressure = 0.0\n",
    "print(pressure)"
   ]
  },
  {
   "cell_type": "code",
   "execution_count": 56,
   "id": "18991726",
   "metadata": {},
   "outputs": [
    {
     "name": "stdout",
     "output_type": "stream",
     "text": [
      "[0, 1, 1, 1, 0, 1]\n"
     ]
    }
   ],
   "source": [
    "original = [-1.5, 0.2, 0.4, 0.0, -1.3, 0.4]\n",
    "result = []\n",
    "for value in original:\n",
    "    if value < 0.0:\n",
    "        result.append(0)\n",
    "    else:\n",
    "        result.append(1)\n",
    "print(result)"
   ]
  },
  {
   "cell_type": "code",
   "execution_count": 58,
   "id": "eafd9ddc",
   "metadata": {},
   "outputs": [],
   "source": [
    "import glob\n",
    "import pandas as pd\n",
    "for filename in glob.glob('data/*.csv'):\n",
    "    contents = pd.read_csv(filename)\n",
    "    if len(contents) < 50:\n",
    "        print(filename, len(contents))"
   ]
  },
  {
   "cell_type": "code",
   "execution_count": 59,
   "id": "c81a3dee",
   "metadata": {},
   "outputs": [
    {
     "name": "stdout",
     "output_type": "stream",
     "text": [
      "-54 100\n"
     ]
    }
   ],
   "source": [
    "values = [-2,1,65,78,-54,-24,100]\n",
    "smallest, largest = None, None\n",
    "for v in values:\n",
    "    if smallest == None and largest == None:\n",
    "        smallest, largest = v, v\n",
    "    else:\n",
    "        smallest = min(smallest, v)\n",
    "        largest = max(largest, v)\n",
    "print(smallest, largest)"
   ]
  },
  {
   "cell_type": "code",
   "execution_count": 60,
   "id": "53c64784",
   "metadata": {},
   "outputs": [
    {
     "data": {
      "text/plain": [
       "2"
      ]
     },
     "execution_count": 60,
     "metadata": {},
     "output_type": "execute_result"
    }
   ],
   "source": [
    "def calculate_life_quartile(exp):\n",
    "    if exp < 58.41:\n",
    "        # This observation is in the first quartile\n",
    "        return 1\n",
    "    elif exp >= 58.41 and exp < 67.05:\n",
    "        # This observation is in the second quartile\n",
    "       return 2\n",
    "    elif exp >= 67.05 and exp < 71.70:\n",
    "        # This observation is in the third quartile\n",
    "       return 3\n",
    "    elif exp >= 71.70:\n",
    "        # This observation is in the fourth quartile\n",
    "       return 4\n",
    "    else:\n",
    "        # This observation has bad data\n",
    "       return None\n",
    "\n",
    "calculate_life_quartile(62.5)"
   ]
  },
  {
   "cell_type": "markdown",
   "id": "2a5e5aac",
   "metadata": {},
   "source": [
    "Break programs down into functions to make them easier to understand.\n",
    "Human beings can only keep a few items in working memory at a time.\n",
    "Understand larger/more complicated ideas by understanding and combining pieces.\n",
    "Components in a machine.\n",
    "Lemmas when proving theorems.\n",
    "Functions serve the same purpose in programs.\n",
    "Encapsulate complexity so that we can treat it as a single “thing”.\n",
    "Also enables re-use.\n",
    "Write one time, use many times."
   ]
  },
  {
   "cell_type": "markdown",
   "id": "9dc50be4",
   "metadata": {},
   "source": [
    "Define a function using def with a name, parameters, and a block of code.\n",
    "Begin the definition of a new function with def.\n",
    "Followed by the name of the function.\n",
    "Must obey the same rules as variable names.\n",
    "Then parameters in parentheses.\n",
    "Empty parentheses if the function doesn’t take any inputs.\n",
    "We will discuss this in detail in a moment.\n",
    "Then a colon.\n",
    "Then an indented block of code."
   ]
  },
  {
   "cell_type": "code",
   "execution_count": 62,
   "id": "4b94d12e",
   "metadata": {},
   "outputs": [],
   "source": [
    "def print_greeting():\n",
    "    print('Hello!')"
   ]
  },
  {
   "cell_type": "code",
   "execution_count": 63,
   "id": "1b7b5017",
   "metadata": {},
   "outputs": [
    {
     "name": "stdout",
     "output_type": "stream",
     "text": [
      "1871/3/19\n"
     ]
    }
   ],
   "source": [
    "def print_date(year, month, day):\n",
    "    joined = str(year) + '/' + str(month) + '/' + str(day)\n",
    "    print(joined)\n",
    "\n",
    "print_date(1871, 3, 19)"
   ]
  },
  {
   "cell_type": "code",
   "execution_count": 64,
   "id": "78cdd102",
   "metadata": {},
   "outputs": [],
   "source": [
    "def average(values):\n",
    "    if len(values) == 0:\n",
    "        return None\n",
    "    return sum(values) / len(values)"
   ]
  },
  {
   "cell_type": "code",
   "execution_count": 65,
   "id": "b546755a",
   "metadata": {},
   "outputs": [
    {
     "name": "stdout",
     "output_type": "stream",
     "text": [
      "average of actual values: 2.6666666666666665\n"
     ]
    }
   ],
   "source": [
    "a = average([1, 3, 4])\n",
    "print('average of actual values:', a)"
   ]
  },
  {
   "cell_type": "code",
   "execution_count": 66,
   "id": "72461cf6",
   "metadata": {},
   "outputs": [
    {
     "name": "stdout",
     "output_type": "stream",
     "text": [
      "1871/3/19\n",
      "result of call is: None\n"
     ]
    }
   ],
   "source": [
    "result = print_date(1871, 3, 19)\n",
    "print('result of call is:', result)"
   ]
  },
  {
   "cell_type": "code",
   "execution_count": 69,
   "id": "6653622a",
   "metadata": {},
   "outputs": [
    {
     "name": "stdout",
     "output_type": "stream",
     "text": [
      "75.54986264356292\n",
      "large\n",
      "64.32705999669639\n",
      "medium\n",
      "59.141419036693456\n",
      "medium\n",
      "86.9880322284445\n",
      "jumbo\n",
      "77.12416914656671\n",
      "large\n",
      "56.07275492520728\n",
      "medium\n",
      "77.5666554477931\n",
      "large\n",
      "88.74193076980572\n",
      "jumbo\n",
      "60.87368809012854\n",
      "medium\n",
      "62.32570818087159\n",
      "medium\n"
     ]
    }
   ],
   "source": [
    "import random\n",
    "for i in range(10):\n",
    "\n",
    "    # simulating the mass of a chicken egg\n",
    "    # the (random) mass will be 70 +/- 20 grams\n",
    "    mass = 70 + 20.0 * (2.0 * random.random() - 1.0)\n",
    "\n",
    "    print(mass)\n",
    "   \n",
    "    # egg sizing machinery prints a label\n",
    "    if mass >= 85:\n",
    "       print(\"jumbo\")\n",
    "    elif mass >= 70:\n",
    "       print(\"large\")\n",
    "    elif mass < 70 and mass >= 55:\n",
    "       print(\"medium\")\n",
    "    else:\n",
    "       print(\"small\")"
   ]
  },
  {
   "cell_type": "code",
   "execution_count": 73,
   "id": "0bced244",
   "metadata": {},
   "outputs": [],
   "source": [
    "pressure = 103.9\n",
    "\n",
    "def adjust(t):\n",
    "    temperature = t * 1.43 / pressure\n",
    "    return temperature"
   ]
  },
  {
   "cell_type": "code",
   "execution_count": 75,
   "id": "29e83b0e",
   "metadata": {},
   "outputs": [
    {
     "name": "stdout",
     "output_type": "stream",
     "text": [
      "0.0\n"
     ]
    }
   ],
   "source": [
    "limit = 100\n",
    "\n",
    "def clip(value):\n",
    "    return min(max(0.0, value), limit)\n",
    "\n",
    "value = -22.5\n",
    "print(clip(value))"
   ]
  },
  {
   "cell_type": "markdown",
   "id": "4f387947",
   "metadata": {},
   "source": [
    "Coding style\n",
    "A consistent coding style helps others (including our future selves) read and understand code more easily. Code is read much more often than it is written, and as the Zen of Python states, “Readability counts”. Python proposed a standard style through one of its first Python Enhancement Proposals (PEP), PEP8.\n",
    "\n",
    "Some points worth highlighting:\n",
    "\n",
    "document your code and ensure that assumptions, internal algorithms, expected inputs, expected outputs, etc., are clear\n",
    "use clear, semantically meaningful variable names\n",
    "use white-space, not tabs, to indent lines (tabs can cause problems across different text editors, operating systems, and version control systems)"
   ]
  },
  {
   "cell_type": "markdown",
   "id": "b3e1f33f",
   "metadata": {},
   "source": [
    "Follow standard Python style in your code.\n",
    "PEP8: a style guide for Python that discusses topics such as how to name variables, how to indent your code, how to structure your import statements, etc. Adhering to PEP8 makes it easier for other Python developers to read and understand your code, and to understand what their contributions should look like.\n",
    "To check your code for compliance with PEP8, you can use the pycodestyle application and tools like the black code formatter can automatically format your code to conform to PEP8 and pycodestyle (a Jupyter notebook formatter also exists nb_black).\n",
    "Some groups and organizations follow different style guidelines besides PEP8. For example, the Google style guide on Python makes slightly different recommendations. Google wrote an application that can help you format your code in either their style or PEP8 called yapf.\n",
    "With respect to coding style, the key is consistency. Choose a style for your project be it PEP8, the Google style, or something else and do your best to ensure that you and anyone else you are collaborating with sticks to it. Consistency within a project is often more impactful than the particular style used. A consistent style will make your software easier to read and understand for others and for your future self."
   ]
  },
  {
   "cell_type": "code",
   "execution_count": 76,
   "id": "95a8a940",
   "metadata": {},
   "outputs": [],
   "source": [
    "def calc_bulk_density(mass, volume):\n",
    "    '''Return dry bulk density = powder mass / powder volume.'''\n",
    "    assert volume > 0\n",
    "    return mass / volume"
   ]
  },
  {
   "cell_type": "code",
   "execution_count": 77,
   "id": "b2ba6d6c",
   "metadata": {},
   "outputs": [
    {
     "name": "stdout",
     "output_type": "stream",
     "text": [
      "Help on function average in module __main__:\n",
      "\n",
      "average(values)\n",
      "    Return average of values, or None if no values are supplied.\n",
      "\n"
     ]
    }
   ],
   "source": [
    "def average(values):\n",
    "    \"Return average of values, or None if no values are supplied.\"\n",
    "\n",
    "    if len(values) == 0:\n",
    "        return None\n",
    "    return sum(values) / len(values)\n",
    "\n",
    "help(average)"
   ]
  },
  {
   "cell_type": "markdown",
   "id": "31e8fac9",
   "metadata": {},
   "source": [
    "Often use multiline strings for documentation. These start and end with three quote characters (either single or double) and end with three matching characters."
   ]
  },
  {
   "cell_type": "code",
   "execution_count": 78,
   "id": "abf4925c",
   "metadata": {},
   "outputs": [
    {
     "data": {
      "text/plain": [
       "'This string spans\\nmultiple lines.\\n\\nBlank lines are allowed.'"
      ]
     },
     "execution_count": 78,
     "metadata": {},
     "output_type": "execute_result"
    }
   ],
   "source": [
    "\"\"\"This string spans\n",
    "multiple lines.\n",
    "\n",
    "Blank lines are allowed.\"\"\""
   ]
  },
  {
   "cell_type": "code",
   "execution_count": 79,
   "id": "ff58de4d",
   "metadata": {},
   "outputs": [],
   "source": [
    "\"Find maximum edit distance between multiple sequences.\"\n",
    "# This finds the maximum distance between all sequences.\n",
    "\n",
    "def overall_max(sequences):\n",
    "    '''Determine overall maximum edit distance.'''\n",
    "\n",
    "    highest = 0\n",
    "    for left in sequences:\n",
    "        for right in sequences:\n",
    "            '''Avoid checking sequence against itself.'''\n",
    "            if left != right:\n",
    "                this = edit_distance(left, right)\n",
    "                highest = max(highest, this)\n",
    "\n",
    "    # Report.\n",
    "    return highest"
   ]
  },
  {
   "cell_type": "code",
   "execution_count": 80,
   "id": "09814a46",
   "metadata": {},
   "outputs": [],
   "source": [
    "def middle(a, b, c):\n",
    "    # Return the middle value of three.\n",
    "    # Assumes the values can actually be compared.\n",
    "    values = [a, b, c]\n",
    "    values.sort()\n",
    "    return values[1]"
   ]
  },
  {
   "cell_type": "code",
   "execution_count": 81,
   "id": "0eec0c79",
   "metadata": {},
   "outputs": [
    {
     "name": "stdout",
     "output_type": "stream",
     "text": [
      "et cetera\n",
      "*****-***\n",
      "----*-*--\n",
      "---*---*-\n",
      "--*-*-*-*\n",
      "**-------\n",
      "***-----*\n",
      "--**---**\n",
      "*****-***\n",
      "----*-*--\n",
      "---*---*-\n"
     ]
    }
   ],
   "source": [
    "n = 10\n",
    "s = 'et cetera'\n",
    "print(s)\n",
    "i = 0\n",
    "while i < n:\n",
    "    # print('at', j)\n",
    "    new = ''\n",
    "    for j in range(len(s)):\n",
    "        left = j-1\n",
    "        right = (j+1)%len(s)\n",
    "        if s[left]==s[right]: new += '-'\n",
    "        else: new += '*'\n",
    "    s=''.join(new)\n",
    "    print(s)\n",
    "    i += 1"
   ]
  }
 ],
 "metadata": {
  "kernelspec": {
   "display_name": "Python 3",
   "language": "python",
   "name": "python3"
  },
  "language_info": {
   "codemirror_mode": {
    "name": "ipython",
    "version": 3
   },
   "file_extension": ".py",
   "mimetype": "text/x-python",
   "name": "python",
   "nbconvert_exporter": "python",
   "pygments_lexer": "ipython3",
   "version": "3.8.8"
  }
 },
 "nbformat": 4,
 "nbformat_minor": 5
}
